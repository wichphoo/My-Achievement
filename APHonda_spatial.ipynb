{
 "cells": [
  {
   "cell_type": "code",
   "execution_count": 9,
   "metadata": {},
   "outputs": [],
   "source": [
    "import pandas as pd\n",
    "import numpy as np\n",
    "import matplotlib.pyplot as plt\n",
    "import os "
   ]
  },
  {
   "cell_type": "code",
   "execution_count": 10,
   "metadata": {},
   "outputs": [],
   "source": [
    "import pymysql\n",
    "import pymysql.cursors"
   ]
  },
  {
   "cell_type": "code",
   "execution_count": 11,
   "metadata": {},
   "outputs": [],
   "source": [
    "user = 'monthira'\n",
    "passwd = '2JW8WGRy8VPN9wq2'"
   ]
  },
  {
   "cell_type": "code",
   "execution_count": 12,
   "metadata": {},
   "outputs": [],
   "source": [
    "# Open database connection\n",
    "db = pymysql.connect(host=\"devpartners.haupcar.com\",\n",
    "                     user=user,\n",
    "                     passwd=passwd,\n",
    "                     db=\"haupcar\",\n",
    "                     charset='utf8')"
   ]
  },
  {
   "cell_type": "code",
   "execution_count": 13,
   "metadata": {},
   "outputs": [],
   "source": [
    "# prepare a cursor object using cursor() method\n",
    "cursor = db.cursor()"
   ]
  },
  {
   "cell_type": "code",
   "execution_count": 14,
   "metadata": {},
   "outputs": [],
   "source": [
    "#Query service-days\n",
    "q1 = '''SELECT v.vehicleid, v.reservationno, v.logtime, v.latitude, v.longitude, v.enginestate, v.speed\n",
    "              \n",
    "        FROM vehicle_interval_log as v\n",
    "        WHERE (v.logtime >= '2020-08-24') AND (v.logtime <= '2020-09-30')\n",
    "        AND (v.vehicleid=623 OR v.vehicleid=612 OR v.vehicleid=628 OR v.vehicleid=642 \n",
    "            OR v.vehicleid=648 OR v.vehicleid=649)\n",
    "        ORDER BY v.logtime\n",
    "        '''"
   ]
  },
  {
   "cell_type": "code",
   "execution_count": 15,
   "metadata": {},
   "outputs": [
    {
     "data": {
      "text/plain": [
       "74957"
      ]
     },
     "execution_count": 15,
     "metadata": {},
     "output_type": "execute_result"
    }
   ],
   "source": [
    "cursor.execute(q1)"
   ]
  },
  {
   "cell_type": "code",
   "execution_count": 16,
   "metadata": {},
   "outputs": [],
   "source": [
    "q1_result = cursor.fetchall()"
   ]
  },
  {
   "cell_type": "code",
   "execution_count": 17,
   "metadata": {},
   "outputs": [],
   "source": [
    "q1_field_names = [i[0] for i in cursor.description]\n",
    "vehlog_df = pd.DataFrame(q1_result,columns =q1_field_names)"
   ]
  },
  {
   "cell_type": "code",
   "execution_count": 18,
   "metadata": {},
   "outputs": [],
   "source": [
    "db.close()"
   ]
  },
  {
   "cell_type": "code",
   "execution_count": 19,
   "metadata": {},
   "outputs": [],
   "source": [
    "vehlog_df['logtime'] = pd.to_datetime(vehlog_df['logtime'], errors='coerce')"
   ]
  },
  {
   "cell_type": "code",
   "execution_count": 20,
   "metadata": {},
   "outputs": [],
   "source": [
    "stop_df=vehlog_df[vehlog_df['speed']==0]"
   ]
  },
  {
   "cell_type": "code",
   "execution_count": 21,
   "metadata": {},
   "outputs": [],
   "source": [
    "def haversine_distance(lat1, lon1, lat2, lon2):\n",
    "   r = 6371\n",
    "   phi1 = np.radians(lat1)\n",
    "   phi2 = np.radians(lat2)\n",
    "   delta_phi = np.radians(lat2 - lat1)\n",
    "   delta_lambda = np.radians(lon2 - lon1)\n",
    "   a = np.sin(delta_phi / 2)**2 + np.cos(phi1) * np.cos(phi2) *   np.sin(delta_lambda / 2)**2\n",
    "   res = r * (2 * np.arctan2(np.sqrt(a), np.sqrt(1 - a)))\n",
    "   return np.round(res*1000, 2)"
   ]
  },
  {
   "cell_type": "code",
   "execution_count": 22,
   "metadata": {},
   "outputs": [
    {
     "name": "stderr",
     "output_type": "stream",
     "text": [
      "/Users/wichphoopoonnasee/opt/anaconda3/lib/python3.7/site-packages/ipykernel_launcher.py:2: SettingWithCopyWarning: \n",
      "A value is trying to be set on a copy of a slice from a DataFrame.\n",
      "Try using .loc[row_indexer,col_indexer] = value instead\n",
      "\n",
      "See the caveats in the documentation: https://pandas.pydata.org/pandas-docs/stable/user_guide/indexing.html#returning-a-view-versus-a-copy\n",
      "  \n"
     ]
    }
   ],
   "source": [
    "stop_df['distance_m'] = haversine_distance(\n",
    "    stop_df['latitude'], stop_df['longitude'], stop_df['latitude'].shift(1), stop_df['longitude'].shift(1))"
   ]
  },
  {
   "cell_type": "code",
   "execution_count": 23,
   "metadata": {},
   "outputs": [],
   "source": [
    "l1=[stop_df.iloc[x,5] in stop_df.iloc[x-1:x,5].tolist() for x in np.arange(1,len(stop_df))]+['']"
   ]
  },
  {
   "cell_type": "code",
   "execution_count": 24,
   "metadata": {},
   "outputs": [
    {
     "name": "stderr",
     "output_type": "stream",
     "text": [
      "/Users/wichphoopoonnasee/opt/anaconda3/lib/python3.7/site-packages/ipykernel_launcher.py:1: SettingWithCopyWarning: \n",
      "A value is trying to be set on a copy of a slice from a DataFrame.\n",
      "Try using .loc[row_indexer,col_indexer] = value instead\n",
      "\n",
      "See the caveats in the documentation: https://pandas.pydata.org/pandas-docs/stable/user_guide/indexing.html#returning-a-view-versus-a-copy\n",
      "  \"\"\"Entry point for launching an IPython kernel.\n"
     ]
    }
   ],
   "source": [
    "stop_df['track_state']=l1"
   ]
  },
  {
   "cell_type": "code",
   "execution_count": 25,
   "metadata": {},
   "outputs": [],
   "source": [
    "l2=[stop_df.iloc[x,1] in stop_df.iloc[x-1:x,1].tolist() for x in np.arange(1,len(stop_df))]+['']"
   ]
  },
  {
   "cell_type": "code",
   "execution_count": 26,
   "metadata": {},
   "outputs": [
    {
     "name": "stderr",
     "output_type": "stream",
     "text": [
      "/Users/wichphoopoonnasee/opt/anaconda3/lib/python3.7/site-packages/ipykernel_launcher.py:1: SettingWithCopyWarning: \n",
      "A value is trying to be set on a copy of a slice from a DataFrame.\n",
      "Try using .loc[row_indexer,col_indexer] = value instead\n",
      "\n",
      "See the caveats in the documentation: https://pandas.pydata.org/pandas-docs/stable/user_guide/indexing.html#returning-a-view-versus-a-copy\n",
      "  \"\"\"Entry point for launching an IPython kernel.\n"
     ]
    }
   ],
   "source": [
    "stop_df['track_resv']=l2"
   ]
  },
  {
   "cell_type": "code",
   "execution_count": 27,
   "metadata": {},
   "outputs": [
    {
     "name": "stderr",
     "output_type": "stream",
     "text": [
      "/Users/wichphoopoonnasee/opt/anaconda3/lib/python3.7/site-packages/ipykernel_launcher.py:1: SettingWithCopyWarning: \n",
      "A value is trying to be set on a copy of a slice from a DataFrame.\n",
      "Try using .loc[row_indexer,col_indexer] = value instead\n",
      "\n",
      "See the caveats in the documentation: https://pandas.pydata.org/pandas-docs/stable/user_guide/indexing.html#returning-a-view-versus-a-copy\n",
      "  \"\"\"Entry point for launching an IPython kernel.\n"
     ]
    }
   ],
   "source": [
    "stop_df['stop_duration']=''"
   ]
  },
  {
   "cell_type": "code",
   "execution_count": 28,
   "metadata": {},
   "outputs": [],
   "source": [
    "n=0"
   ]
  },
  {
   "cell_type": "code",
   "execution_count": 29,
   "metadata": {},
   "outputs": [
    {
     "name": "stderr",
     "output_type": "stream",
     "text": [
      "/Users/wichphoopoonnasee/opt/anaconda3/lib/python3.7/site-packages/pandas/core/indexing.py:965: SettingWithCopyWarning: \n",
      "A value is trying to be set on a copy of a slice from a DataFrame.\n",
      "Try using .loc[row_indexer,col_indexer] = value instead\n",
      "\n",
      "See the caveats in the documentation: https://pandas.pydata.org/pandas-docs/stable/user_guide/indexing.html#returning-a-view-versus-a-copy\n",
      "  self.obj[item] = s\n"
     ]
    }
   ],
   "source": [
    "for i in range(len(stop_df)):\n",
    "    engine_state = stop_df.iloc[i, 5]\n",
    "    t1 = stop_df.iloc[i-n, 2]\n",
    "    t2 = stop_df.iloc[i, 2]\n",
    "    resv1 = stop_df.iloc[i-1, 1]\n",
    "    resv2 = stop_df.iloc[i, 1]\n",
    "    t=t2-t1\n",
    "    \n",
    "    if (engine_state=='STOP') & (resv1==resv2):\n",
    "        n=n+1\n",
    "        stop_df.iloc[i, 10]=t\n",
    "    else:\n",
    "        n=0\n",
    "        stop_df.iloc[i, 10]=pd.Timedelta('1000 days')"
   ]
  },
  {
   "cell_type": "code",
   "execution_count": 30,
   "metadata": {},
   "outputs": [
    {
     "name": "stderr",
     "output_type": "stream",
     "text": [
      "/Users/wichphoopoonnasee/opt/anaconda3/lib/python3.7/site-packages/ipykernel_launcher.py:1: SettingWithCopyWarning: \n",
      "A value is trying to be set on a copy of a slice from a DataFrame.\n",
      "Try using .loc[row_indexer,col_indexer] = value instead\n",
      "\n",
      "See the caveats in the documentation: https://pandas.pydata.org/pandas-docs/stable/user_guide/indexing.html#returning-a-view-versus-a-copy\n",
      "  \"\"\"Entry point for launching an IPython kernel.\n"
     ]
    }
   ],
   "source": [
    "stop_df['stop_duration']=pd.to_timedelta(stop_df['stop_duration'])"
   ]
  },
  {
   "cell_type": "code",
   "execution_count": 31,
   "metadata": {},
   "outputs": [
    {
     "name": "stderr",
     "output_type": "stream",
     "text": [
      "/Users/wichphoopoonnasee/opt/anaconda3/lib/python3.7/site-packages/ipykernel_launcher.py:1: SettingWithCopyWarning: \n",
      "A value is trying to be set on a copy of a slice from a DataFrame.\n",
      "Try using .loc[row_indexer,col_indexer] = value instead\n",
      "\n",
      "See the caveats in the documentation: https://pandas.pydata.org/pandas-docs/stable/user_guide/indexing.html#returning-a-view-versus-a-copy\n",
      "  \"\"\"Entry point for launching an IPython kernel.\n"
     ]
    }
   ],
   "source": [
    "stop_df['stop_duration']=stop_df['stop_duration']/np.timedelta64(1, 'm')"
   ]
  },
  {
   "cell_type": "code",
   "execution_count": 32,
   "metadata": {},
   "outputs": [],
   "source": [
    "stop_df2=stop_df[(((stop_df['stop_duration']>15)&(stop_df['stop_duration']<1440000))&(stop_df['track_state']==False))&(stop_df['distance_m']<100)|\n",
    "                 (((stop_df['stop_duration']>15)&(stop_df['stop_duration']<1440000))&(stop_df['track_resv']==False))&(stop_df['distance_m']<100)]"
   ]
  },
  {
   "cell_type": "code",
   "execution_count": 61,
   "metadata": {},
   "outputs": [],
   "source": [
    "stop_df2.to_csv('stopveh.csv', index=False)"
   ]
  },
  {
   "cell_type": "code",
   "execution_count": 1,
   "metadata": {},
   "outputs": [],
   "source": [
    "#outside KU"
   ]
  },
  {
   "cell_type": "code",
   "execution_count": 43,
   "metadata": {},
   "outputs": [],
   "source": [
    "from shapely.geometry import Point, Polygon\n",
    "import geopandas as gpd\n",
    "import shapely"
   ]
  },
  {
   "cell_type": "code",
   "execution_count": 3,
   "metadata": {},
   "outputs": [],
   "source": [
    "KU=[(100.561851,13.847501),(100.571389,13.842036),(100.572698,13.844370),(100.572582,13.856489),(100.566134,13.855541)]"
   ]
  },
  {
   "cell_type": "code",
   "execution_count": 41,
   "metadata": {},
   "outputs": [],
   "source": [
    "poly=Polygon(KU)"
   ]
  },
  {
   "cell_type": "code",
   "execution_count": 34,
   "metadata": {},
   "outputs": [],
   "source": [
    "geometry=stop_df2.apply(lambda row: shapely.geometry.Point((row['longitude'], row['latitude'])), axis=1)"
   ]
  },
  {
   "cell_type": "code",
   "execution_count": 36,
   "metadata": {},
   "outputs": [],
   "source": [
    "stop_df2 = gpd.GeoDataFrame(stop_df2, geometry=geometry)"
   ]
  },
  {
   "cell_type": "code",
   "execution_count": 60,
   "metadata": {},
   "outputs": [
    {
     "data": {
      "text/html": [
       "<div>\n",
       "<style scoped>\n",
       "    .dataframe tbody tr th:only-of-type {\n",
       "        vertical-align: middle;\n",
       "    }\n",
       "\n",
       "    .dataframe tbody tr th {\n",
       "        vertical-align: top;\n",
       "    }\n",
       "\n",
       "    .dataframe thead th {\n",
       "        text-align: right;\n",
       "    }\n",
       "</style>\n",
       "<table border=\"1\" class=\"dataframe\">\n",
       "  <thead>\n",
       "    <tr style=\"text-align: right;\">\n",
       "      <th></th>\n",
       "      <th>vehicleid</th>\n",
       "      <th>reservationno</th>\n",
       "      <th>logtime</th>\n",
       "      <th>latitude</th>\n",
       "      <th>longitude</th>\n",
       "      <th>enginestate</th>\n",
       "      <th>speed</th>\n",
       "      <th>distance_m</th>\n",
       "      <th>track_state</th>\n",
       "      <th>track_resv</th>\n",
       "      <th>stop_duration</th>\n",
       "      <th>geometry</th>\n",
       "      <th>KU</th>\n",
       "    </tr>\n",
       "  </thead>\n",
       "  <tbody>\n",
       "    <tr>\n",
       "      <th>610</th>\n",
       "      <td>628</td>\n",
       "      <td>84497</td>\n",
       "      <td>2020-08-24 14:02:52</td>\n",
       "      <td>13.84504</td>\n",
       "      <td>100.56717</td>\n",
       "      <td>STOP</td>\n",
       "      <td>0.0</td>\n",
       "      <td>0.00</td>\n",
       "      <td>False</td>\n",
       "      <td>True</td>\n",
       "      <td>19.616667</td>\n",
       "      <td>POINT (100.56717 13.84504)</td>\n",
       "      <td>Inside</td>\n",
       "    </tr>\n",
       "    <tr>\n",
       "      <th>1042</th>\n",
       "      <td>649</td>\n",
       "      <td>84729</td>\n",
       "      <td>2020-08-26 12:35:02</td>\n",
       "      <td>13.84595</td>\n",
       "      <td>100.56821</td>\n",
       "      <td>STOP</td>\n",
       "      <td>0.0</td>\n",
       "      <td>17.42</td>\n",
       "      <td>False</td>\n",
       "      <td>True</td>\n",
       "      <td>15.850000</td>\n",
       "      <td>POINT (100.56821 13.84595)</td>\n",
       "      <td>Inside</td>\n",
       "    </tr>\n",
       "    <tr>\n",
       "      <th>1263</th>\n",
       "      <td>648</td>\n",
       "      <td>84825</td>\n",
       "      <td>2020-08-26 13:37:44</td>\n",
       "      <td>13.85410</td>\n",
       "      <td>100.57795</td>\n",
       "      <td>STOP</td>\n",
       "      <td>0.0</td>\n",
       "      <td>0.00</td>\n",
       "      <td>False</td>\n",
       "      <td>False</td>\n",
       "      <td>34.666667</td>\n",
       "      <td>POINT (100.57795 13.85410)</td>\n",
       "      <td>Outside</td>\n",
       "    </tr>\n",
       "    <tr>\n",
       "      <th>1856</th>\n",
       "      <td>649</td>\n",
       "      <td>84729</td>\n",
       "      <td>2020-08-26 15:23:43</td>\n",
       "      <td>13.84597</td>\n",
       "      <td>100.56842</td>\n",
       "      <td>STOP</td>\n",
       "      <td>0.0</td>\n",
       "      <td>0.00</td>\n",
       "      <td>False</td>\n",
       "      <td>True</td>\n",
       "      <td>57.883333</td>\n",
       "      <td>POINT (100.56842 13.84597)</td>\n",
       "      <td>Inside</td>\n",
       "    </tr>\n",
       "    <tr>\n",
       "      <th>2593</th>\n",
       "      <td>623</td>\n",
       "      <td>84997</td>\n",
       "      <td>2020-08-26 19:40:36</td>\n",
       "      <td>13.83949</td>\n",
       "      <td>100.57376</td>\n",
       "      <td>STOP</td>\n",
       "      <td>0.0</td>\n",
       "      <td>0.00</td>\n",
       "      <td>False</td>\n",
       "      <td>True</td>\n",
       "      <td>41.266667</td>\n",
       "      <td>POINT (100.57376 13.83949)</td>\n",
       "      <td>Outside</td>\n",
       "    </tr>\n",
       "    <tr>\n",
       "      <th>...</th>\n",
       "      <td>...</td>\n",
       "      <td>...</td>\n",
       "      <td>...</td>\n",
       "      <td>...</td>\n",
       "      <td>...</td>\n",
       "      <td>...</td>\n",
       "      <td>...</td>\n",
       "      <td>...</td>\n",
       "      <td>...</td>\n",
       "      <td>...</td>\n",
       "      <td>...</td>\n",
       "      <td>...</td>\n",
       "      <td>...</td>\n",
       "    </tr>\n",
       "    <tr>\n",
       "      <th>72781</th>\n",
       "      <td>642</td>\n",
       "      <td>89499</td>\n",
       "      <td>2020-09-28 00:43:28</td>\n",
       "      <td>13.87976</td>\n",
       "      <td>100.58675</td>\n",
       "      <td>STOP</td>\n",
       "      <td>0.0</td>\n",
       "      <td>0.00</td>\n",
       "      <td>False</td>\n",
       "      <td>True</td>\n",
       "      <td>68.133333</td>\n",
       "      <td>POINT (100.58675 13.87976)</td>\n",
       "      <td>Outside</td>\n",
       "    </tr>\n",
       "    <tr>\n",
       "      <th>72880</th>\n",
       "      <td>642</td>\n",
       "      <td>89499</td>\n",
       "      <td>2020-09-28 15:00:13</td>\n",
       "      <td>13.84923</td>\n",
       "      <td>100.57129</td>\n",
       "      <td>STOP</td>\n",
       "      <td>0.0</td>\n",
       "      <td>0.00</td>\n",
       "      <td>False</td>\n",
       "      <td>True</td>\n",
       "      <td>112.183333</td>\n",
       "      <td>POINT (100.57129 13.84923)</td>\n",
       "      <td>Inside</td>\n",
       "    </tr>\n",
       "    <tr>\n",
       "      <th>73035</th>\n",
       "      <td>642</td>\n",
       "      <td>89499</td>\n",
       "      <td>2020-09-28 15:34:20</td>\n",
       "      <td>13.85249</td>\n",
       "      <td>100.58103</td>\n",
       "      <td>STOP</td>\n",
       "      <td>0.0</td>\n",
       "      <td>0.00</td>\n",
       "      <td>False</td>\n",
       "      <td>True</td>\n",
       "      <td>26.883333</td>\n",
       "      <td>POINT (100.58103 13.85249)</td>\n",
       "      <td>Outside</td>\n",
       "    </tr>\n",
       "    <tr>\n",
       "      <th>74421</th>\n",
       "      <td>642</td>\n",
       "      <td>89499</td>\n",
       "      <td>2020-09-28 21:15:39</td>\n",
       "      <td>13.84239</td>\n",
       "      <td>100.56974</td>\n",
       "      <td>STOP</td>\n",
       "      <td>0.0</td>\n",
       "      <td>0.00</td>\n",
       "      <td>False</td>\n",
       "      <td>True</td>\n",
       "      <td>89.033333</td>\n",
       "      <td>POINT (100.56974 13.84239)</td>\n",
       "      <td>Outside</td>\n",
       "    </tr>\n",
       "    <tr>\n",
       "      <th>74663</th>\n",
       "      <td>642</td>\n",
       "      <td>89499</td>\n",
       "      <td>2020-09-29 00:13:42</td>\n",
       "      <td>13.83245</td>\n",
       "      <td>100.57071</td>\n",
       "      <td>STOP</td>\n",
       "      <td>0.0</td>\n",
       "      <td>0.00</td>\n",
       "      <td>False</td>\n",
       "      <td>True</td>\n",
       "      <td>161.100000</td>\n",
       "      <td>POINT (100.57071 13.83245)</td>\n",
       "      <td>Outside</td>\n",
       "    </tr>\n",
       "  </tbody>\n",
       "</table>\n",
       "<p>159 rows × 13 columns</p>\n",
       "</div>"
      ],
      "text/plain": [
       "       vehicleid  reservationno             logtime  latitude  longitude  \\\n",
       "610          628          84497 2020-08-24 14:02:52  13.84504  100.56717   \n",
       "1042         649          84729 2020-08-26 12:35:02  13.84595  100.56821   \n",
       "1263         648          84825 2020-08-26 13:37:44  13.85410  100.57795   \n",
       "1856         649          84729 2020-08-26 15:23:43  13.84597  100.56842   \n",
       "2593         623          84997 2020-08-26 19:40:36  13.83949  100.57376   \n",
       "...          ...            ...                 ...       ...        ...   \n",
       "72781        642          89499 2020-09-28 00:43:28  13.87976  100.58675   \n",
       "72880        642          89499 2020-09-28 15:00:13  13.84923  100.57129   \n",
       "73035        642          89499 2020-09-28 15:34:20  13.85249  100.58103   \n",
       "74421        642          89499 2020-09-28 21:15:39  13.84239  100.56974   \n",
       "74663        642          89499 2020-09-29 00:13:42  13.83245  100.57071   \n",
       "\n",
       "      enginestate  speed  distance_m track_state track_resv  stop_duration  \\\n",
       "610          STOP    0.0        0.00       False       True      19.616667   \n",
       "1042         STOP    0.0       17.42       False       True      15.850000   \n",
       "1263         STOP    0.0        0.00       False      False      34.666667   \n",
       "1856         STOP    0.0        0.00       False       True      57.883333   \n",
       "2593         STOP    0.0        0.00       False       True      41.266667   \n",
       "...           ...    ...         ...         ...        ...            ...   \n",
       "72781        STOP    0.0        0.00       False       True      68.133333   \n",
       "72880        STOP    0.0        0.00       False       True     112.183333   \n",
       "73035        STOP    0.0        0.00       False       True      26.883333   \n",
       "74421        STOP    0.0        0.00       False       True      89.033333   \n",
       "74663        STOP    0.0        0.00       False       True     161.100000   \n",
       "\n",
       "                         geometry       KU  \n",
       "610    POINT (100.56717 13.84504)   Inside  \n",
       "1042   POINT (100.56821 13.84595)   Inside  \n",
       "1263   POINT (100.57795 13.85410)  Outside  \n",
       "1856   POINT (100.56842 13.84597)   Inside  \n",
       "2593   POINT (100.57376 13.83949)  Outside  \n",
       "...                           ...      ...  \n",
       "72781  POINT (100.58675 13.87976)  Outside  \n",
       "72880  POINT (100.57129 13.84923)   Inside  \n",
       "73035  POINT (100.58103 13.85249)  Outside  \n",
       "74421  POINT (100.56974 13.84239)  Outside  \n",
       "74663  POINT (100.57071 13.83245)  Outside  \n",
       "\n",
       "[159 rows x 13 columns]"
      ]
     },
     "execution_count": 60,
     "metadata": {},
     "output_type": "execute_result"
    }
   ],
   "source": [
    "stop_df2"
   ]
  },
  {
   "cell_type": "code",
   "execution_count": 38,
   "metadata": {},
   "outputs": [],
   "source": [
    "stop_df2['KU']=''"
   ]
  },
  {
   "cell_type": "code",
   "execution_count": 59,
   "metadata": {},
   "outputs": [],
   "source": [
    "for i in range(len(stop_df2)):\n",
    "    point = stop_df2.iloc[i, 11]\n",
    "    \n",
    "    if (point.within(poly)):\n",
    "        stop_df2.iloc[i, 12]='Inside'\n",
    "    else:\n",
    "        stop_df2.iloc[i, 12]='Outside' "
   ]
  },
  {
   "cell_type": "code",
   "execution_count": null,
   "metadata": {},
   "outputs": [],
   "source": []
  }
 ],
 "metadata": {
  "kernelspec": {
   "display_name": "Python 3",
   "language": "python",
   "name": "python3"
  },
  "language_info": {
   "codemirror_mode": {
    "name": "ipython",
    "version": 3
   },
   "file_extension": ".py",
   "mimetype": "text/x-python",
   "name": "python",
   "nbconvert_exporter": "python",
   "pygments_lexer": "ipython3",
   "version": "3.7.6"
  }
 },
 "nbformat": 4,
 "nbformat_minor": 4
}
